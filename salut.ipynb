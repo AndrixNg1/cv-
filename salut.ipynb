{
 "cells": [
  {
   "cell_type": "code",
   "execution_count": null,
   "metadata": {},
   "outputs": [
    {
     "ename": "",
     "evalue": "",
     "output_type": "error",
     "traceback": [
      "\u001b[1;31mRunning cells with 'Python 3.12.3' requires the ipykernel package.\n",
      "\u001b[1;31mRun the following command to install 'ipykernel' into the Python environment. \n",
      "\u001b[1;31mCommand: '/bin/python3 -m pip install ipykernel -U --user --force-reinstall'"
     ]
    }
   ],
   "source": [
    "def premier(n):\n",
    "    if n <= 1:\n",
    "        return False\n",
    "    for x in range(2, int(n ** 0.5) + 1):  # Vérifier jusqu'à la racine carrée de n\n",
    "        if n % x == 0:\n",
    "            return False  # Si un diviseur est trouvé, n n'est pas premier\n",
    "    return True  # Si on sort de la boucle, n est premier\n",
    "\n",
    "# Test\n",
    "n = int(input(\"Entrez un nombre : \"))\n",
    "if premier(n):\n",
    "    print(f\"{n} est un nombre premier.\")\n",
    "else:\n",
    "    print(f\"{n} n'est pas un nombre premier.\")\n"
   ]
  }
 ],
 "metadata": {
  "kernelspec": {
   "display_name": "Python 3",
   "language": "python",
   "name": "python3"
  },
  "language_info": {
   "name": "python",
   "version": "3.12.3"
  }
 },
 "nbformat": 4,
 "nbformat_minor": 2
}
